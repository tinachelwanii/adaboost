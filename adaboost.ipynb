{
  "metadata": {
    "kernelspec": {
      "name": "python",
      "display_name": "Python (Pyodide)",
      "language": "python"
    },
    "language_info": {
      "codemirror_mode": {
        "name": "python",
        "version": 3
      },
      "file_extension": ".py",
      "mimetype": "text/x-python",
      "name": "python",
      "nbconvert_exporter": "python",
      "pygments_lexer": "ipython3",
      "version": "3.8"
    }
  },
  "nbformat_minor": 4,
  "nbformat": 4,
  "cells": [
    {
      "cell_type": "code",
      "source": "import numpy as np\n\nclass DecisionStump:\n    def __init__(self):\n        self.feature_index = None\n        self.threshold = None\n        self.polarity = 1\n        self.alpha = None\n\n    def predict(self, X):\n        n_samples = X.shape[0]\n        X_column = X[:, self.feature_index]\n        predictions = np.ones(n_samples)\n        if self.polarity == 1:\n            predictions[X_column < self.threshold] = -1\n        else:\n            predictions[X_column > self.threshold] = -1\n        return predictions\n\n\nclass AdaBoost:\n    def __init__(self, n_clf=5):\n        self.n_clf = n_clf\n        self.clfs = []\n\n    def fit(self, X, y):\n        n_samples, n_features = X.shape\n        w = np.ones(n_samples) / n_samples\n        \n        self.clfs = []\n\n        for _ in range(self.n_clf):\n            clf = DecisionStump()\n            min_error = float('inf')\n            \n            for feature_i in range(n_features):\n                X_column = X[:, feature_i]\n                thresholds = np.unique(X_column)\n                \n                for threshold in thresholds:\n                    p = 1\n                    predictions = np.ones(n_samples)\n                    predictions[X_column < threshold] = -1\n                    \n                    error = sum(w[y != predictions])\n                    \n                    if error > 0.5:\n                        error = 1 - error\n                        p = -1\n                    \n                    if error < min_error:\n                        clf.polarity = p\n                        clf.threshold = threshold\n                        clf.feature_index = feature_i\n                        min_error = error\n            \n            EPS = 1e-10\n            clf.alpha = 0.5 * np.log((1 - min_error) / (min_error + EPS))\n            \n            predictions = clf.polarity * np.ones(n_samples)\n            predictions[X[:, clf.feature_index] < clf.threshold] = -clf.polarity\n            \n            w *= np.exp(-clf.alpha * y * predictions)\n            w /= np.sum(w)\n            \n            self.clfs.append(clf)\n\n    def predict(self, X):\n        clf_preds = [clf.alpha * clf.predict(X) for clf in self.clfs]\n        y_pred = np.sign(np.sum(clf_preds, axis=0))\n        return y_pred\n\n\n# Example usage:\n\nif __name__ == \"__main__\":\n    # Generate a simple dataset\n    from sklearn.datasets import make_classification\n    from sklearn.model_selection import train_test_split\n    from sklearn.metrics import accuracy_score\n\n    X, y = make_classification(n_samples=100, n_features=10, n_informative=5, n_redundant=2, random_state=42)\n    y = np.where(y == 0, -1, 1)  # Convert labels from {0, 1} to {-1, 1}\n    \n    X_train, X_test, y_train, y_test = train_test_split(X, y, test_size=0.2, random_state=42)\n    \n    clf = AdaBoost(n_clf=10)\n    clf.fit(X_train, y_train)\n    \n    y_pred = clf.predict(X_test)\n    acc = accuracy_score(y_test, y_pred)\n    print(f\"Accuracy: {acc * 100:.2f}%\")\n",
      "metadata": {
        "trusted": true
      },
      "outputs": [
        {
          "name": "stdout",
          "text": "Accuracy: 75.00%\n",
          "output_type": "stream"
        }
      ],
      "execution_count": 4
    },
    {
      "cell_type": "code",
      "source": "",
      "metadata": {
        "trusted": true
      },
      "outputs": [],
      "execution_count": null
    }
  ]
}